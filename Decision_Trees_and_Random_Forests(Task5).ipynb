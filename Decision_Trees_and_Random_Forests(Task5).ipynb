{
  "nbformat": 4,
  "nbformat_minor": 0,
  "metadata": {
    "colab": {
      "provenance": [],
      "authorship_tag": "ABX9TyOASVaghgRT3cc1DSovvNxa",
      "include_colab_link": true
    },
    "kernelspec": {
      "name": "python3",
      "display_name": "Python 3"
    },
    "language_info": {
      "name": "python"
    }
  },
  "cells": [
    {
      "cell_type": "markdown",
      "metadata": {
        "id": "view-in-github",
        "colab_type": "text"
      },
      "source": [
        "<a href=\"https://colab.research.google.com/github/Sreeja1585/my-projects/blob/main/Decision_Trees_and_Random_Forests(Task5).ipynb\" target=\"_parent\"><img src=\"https://colab.research.google.com/assets/colab-badge.svg\" alt=\"Open In Colab\"/></a>"
      ]
    },
    {
      "cell_type": "code",
      "execution_count": 2,
      "metadata": {
        "id": "WZX6YQwiVpEr"
      },
      "outputs": [],
      "source": [
        "import pandas as pd\n",
        "import numpy as np\n",
        "import matplotlib.pyplot as plt\n",
        "\n",
        "from sklearn.model_selection import train_test_split, cross_val_score\n",
        "from sklearn.tree import DecisionTreeClassifier, export_graphviz\n",
        "from sklearn.ensemble import RandomForestClassifier\n",
        "from sklearn.metrics import accuracy_score, classification_report\n",
        "\n",
        "import graphviz\n",
        "from pathlib import Path\n"
      ]
    },
    {
      "cell_type": "code",
      "source": [
        "df = pd.read_csv(\"heart.csv\")\n",
        "display(df.head())\n",
        "print(\"\\nMissing values per column:\\n\", df.isnull().sum())\n"
      ],
      "metadata": {
        "id": "VMCQxlX6WRoo",
        "colab": {
          "base_uri": "https://localhost:8080/",
          "height": 501
        },
        "outputId": "121cf134-88bc-43eb-db46-525afc8d4027"
      },
      "execution_count": 3,
      "outputs": [
        {
          "output_type": "display_data",
          "data": {
            "text/plain": [
              "   age  sex  cp  trestbps  chol  fbs  restecg  thalach  exang  oldpeak  slope  \\\n",
              "0   52    1   0       125   212    0        1      168      0      1.0      2   \n",
              "1   53    1   0       140   203    1        0      155      1      3.1      0   \n",
              "2   70    1   0       145   174    0        1      125      1      2.6      0   \n",
              "3   61    1   0       148   203    0        1      161      0      0.0      2   \n",
              "4   62    0   0       138   294    1        1      106      0      1.9      1   \n",
              "\n",
              "   ca  thal  target  \n",
              "0   2     3       0  \n",
              "1   0     3       0  \n",
              "2   0     3       0  \n",
              "3   1     3       0  \n",
              "4   3     2       0  "
            ],
            "text/html": [
              "\n",
              "  <div id=\"df-ef64023c-abde-4ab3-be32-c2392a098cf5\" class=\"colab-df-container\">\n",
              "    <div>\n",
              "<style scoped>\n",
              "    .dataframe tbody tr th:only-of-type {\n",
              "        vertical-align: middle;\n",
              "    }\n",
              "\n",
              "    .dataframe tbody tr th {\n",
              "        vertical-align: top;\n",
              "    }\n",
              "\n",
              "    .dataframe thead th {\n",
              "        text-align: right;\n",
              "    }\n",
              "</style>\n",
              "<table border=\"1\" class=\"dataframe\">\n",
              "  <thead>\n",
              "    <tr style=\"text-align: right;\">\n",
              "      <th></th>\n",
              "      <th>age</th>\n",
              "      <th>sex</th>\n",
              "      <th>cp</th>\n",
              "      <th>trestbps</th>\n",
              "      <th>chol</th>\n",
              "      <th>fbs</th>\n",
              "      <th>restecg</th>\n",
              "      <th>thalach</th>\n",
              "      <th>exang</th>\n",
              "      <th>oldpeak</th>\n",
              "      <th>slope</th>\n",
              "      <th>ca</th>\n",
              "      <th>thal</th>\n",
              "      <th>target</th>\n",
              "    </tr>\n",
              "  </thead>\n",
              "  <tbody>\n",
              "    <tr>\n",
              "      <th>0</th>\n",
              "      <td>52</td>\n",
              "      <td>1</td>\n",
              "      <td>0</td>\n",
              "      <td>125</td>\n",
              "      <td>212</td>\n",
              "      <td>0</td>\n",
              "      <td>1</td>\n",
              "      <td>168</td>\n",
              "      <td>0</td>\n",
              "      <td>1.0</td>\n",
              "      <td>2</td>\n",
              "      <td>2</td>\n",
              "      <td>3</td>\n",
              "      <td>0</td>\n",
              "    </tr>\n",
              "    <tr>\n",
              "      <th>1</th>\n",
              "      <td>53</td>\n",
              "      <td>1</td>\n",
              "      <td>0</td>\n",
              "      <td>140</td>\n",
              "      <td>203</td>\n",
              "      <td>1</td>\n",
              "      <td>0</td>\n",
              "      <td>155</td>\n",
              "      <td>1</td>\n",
              "      <td>3.1</td>\n",
              "      <td>0</td>\n",
              "      <td>0</td>\n",
              "      <td>3</td>\n",
              "      <td>0</td>\n",
              "    </tr>\n",
              "    <tr>\n",
              "      <th>2</th>\n",
              "      <td>70</td>\n",
              "      <td>1</td>\n",
              "      <td>0</td>\n",
              "      <td>145</td>\n",
              "      <td>174</td>\n",
              "      <td>0</td>\n",
              "      <td>1</td>\n",
              "      <td>125</td>\n",
              "      <td>1</td>\n",
              "      <td>2.6</td>\n",
              "      <td>0</td>\n",
              "      <td>0</td>\n",
              "      <td>3</td>\n",
              "      <td>0</td>\n",
              "    </tr>\n",
              "    <tr>\n",
              "      <th>3</th>\n",
              "      <td>61</td>\n",
              "      <td>1</td>\n",
              "      <td>0</td>\n",
              "      <td>148</td>\n",
              "      <td>203</td>\n",
              "      <td>0</td>\n",
              "      <td>1</td>\n",
              "      <td>161</td>\n",
              "      <td>0</td>\n",
              "      <td>0.0</td>\n",
              "      <td>2</td>\n",
              "      <td>1</td>\n",
              "      <td>3</td>\n",
              "      <td>0</td>\n",
              "    </tr>\n",
              "    <tr>\n",
              "      <th>4</th>\n",
              "      <td>62</td>\n",
              "      <td>0</td>\n",
              "      <td>0</td>\n",
              "      <td>138</td>\n",
              "      <td>294</td>\n",
              "      <td>1</td>\n",
              "      <td>1</td>\n",
              "      <td>106</td>\n",
              "      <td>0</td>\n",
              "      <td>1.9</td>\n",
              "      <td>1</td>\n",
              "      <td>3</td>\n",
              "      <td>2</td>\n",
              "      <td>0</td>\n",
              "    </tr>\n",
              "  </tbody>\n",
              "</table>\n",
              "</div>\n",
              "    <div class=\"colab-df-buttons\">\n",
              "\n",
              "  <div class=\"colab-df-container\">\n",
              "    <button class=\"colab-df-convert\" onclick=\"convertToInteractive('df-ef64023c-abde-4ab3-be32-c2392a098cf5')\"\n",
              "            title=\"Convert this dataframe to an interactive table.\"\n",
              "            style=\"display:none;\">\n",
              "\n",
              "  <svg xmlns=\"http://www.w3.org/2000/svg\" height=\"24px\" viewBox=\"0 -960 960 960\">\n",
              "    <path d=\"M120-120v-720h720v720H120Zm60-500h600v-160H180v160Zm220 220h160v-160H400v160Zm0 220h160v-160H400v160ZM180-400h160v-160H180v160Zm440 0h160v-160H620v160ZM180-180h160v-160H180v160Zm440 0h160v-160H620v160Z\"/>\n",
              "  </svg>\n",
              "    </button>\n",
              "\n",
              "  <style>\n",
              "    .colab-df-container {\n",
              "      display:flex;\n",
              "      gap: 12px;\n",
              "    }\n",
              "\n",
              "    .colab-df-convert {\n",
              "      background-color: #E8F0FE;\n",
              "      border: none;\n",
              "      border-radius: 50%;\n",
              "      cursor: pointer;\n",
              "      display: none;\n",
              "      fill: #1967D2;\n",
              "      height: 32px;\n",
              "      padding: 0 0 0 0;\n",
              "      width: 32px;\n",
              "    }\n",
              "\n",
              "    .colab-df-convert:hover {\n",
              "      background-color: #E2EBFA;\n",
              "      box-shadow: 0px 1px 2px rgba(60, 64, 67, 0.3), 0px 1px 3px 1px rgba(60, 64, 67, 0.15);\n",
              "      fill: #174EA6;\n",
              "    }\n",
              "\n",
              "    .colab-df-buttons div {\n",
              "      margin-bottom: 4px;\n",
              "    }\n",
              "\n",
              "    [theme=dark] .colab-df-convert {\n",
              "      background-color: #3B4455;\n",
              "      fill: #D2E3FC;\n",
              "    }\n",
              "\n",
              "    [theme=dark] .colab-df-convert:hover {\n",
              "      background-color: #434B5C;\n",
              "      box-shadow: 0px 1px 3px 1px rgba(0, 0, 0, 0.15);\n",
              "      filter: drop-shadow(0px 1px 2px rgba(0, 0, 0, 0.3));\n",
              "      fill: #FFFFFF;\n",
              "    }\n",
              "  </style>\n",
              "\n",
              "    <script>\n",
              "      const buttonEl =\n",
              "        document.querySelector('#df-ef64023c-abde-4ab3-be32-c2392a098cf5 button.colab-df-convert');\n",
              "      buttonEl.style.display =\n",
              "        google.colab.kernel.accessAllowed ? 'block' : 'none';\n",
              "\n",
              "      async function convertToInteractive(key) {\n",
              "        const element = document.querySelector('#df-ef64023c-abde-4ab3-be32-c2392a098cf5');\n",
              "        const dataTable =\n",
              "          await google.colab.kernel.invokeFunction('convertToInteractive',\n",
              "                                                    [key], {});\n",
              "        if (!dataTable) return;\n",
              "\n",
              "        const docLinkHtml = 'Like what you see? Visit the ' +\n",
              "          '<a target=\"_blank\" href=https://colab.research.google.com/notebooks/data_table.ipynb>data table notebook</a>'\n",
              "          + ' to learn more about interactive tables.';\n",
              "        element.innerHTML = '';\n",
              "        dataTable['output_type'] = 'display_data';\n",
              "        await google.colab.output.renderOutput(dataTable, element);\n",
              "        const docLink = document.createElement('div');\n",
              "        docLink.innerHTML = docLinkHtml;\n",
              "        element.appendChild(docLink);\n",
              "      }\n",
              "    </script>\n",
              "  </div>\n",
              "\n",
              "\n",
              "    <div id=\"df-fde55646-9fa3-4695-8d35-7953ae748860\">\n",
              "      <button class=\"colab-df-quickchart\" onclick=\"quickchart('df-fde55646-9fa3-4695-8d35-7953ae748860')\"\n",
              "                title=\"Suggest charts\"\n",
              "                style=\"display:none;\">\n",
              "\n",
              "<svg xmlns=\"http://www.w3.org/2000/svg\" height=\"24px\"viewBox=\"0 0 24 24\"\n",
              "     width=\"24px\">\n",
              "    <g>\n",
              "        <path d=\"M19 3H5c-1.1 0-2 .9-2 2v14c0 1.1.9 2 2 2h14c1.1 0 2-.9 2-2V5c0-1.1-.9-2-2-2zM9 17H7v-7h2v7zm4 0h-2V7h2v10zm4 0h-2v-4h2v4z\"/>\n",
              "    </g>\n",
              "</svg>\n",
              "      </button>\n",
              "\n",
              "<style>\n",
              "  .colab-df-quickchart {\n",
              "      --bg-color: #E8F0FE;\n",
              "      --fill-color: #1967D2;\n",
              "      --hover-bg-color: #E2EBFA;\n",
              "      --hover-fill-color: #174EA6;\n",
              "      --disabled-fill-color: #AAA;\n",
              "      --disabled-bg-color: #DDD;\n",
              "  }\n",
              "\n",
              "  [theme=dark] .colab-df-quickchart {\n",
              "      --bg-color: #3B4455;\n",
              "      --fill-color: #D2E3FC;\n",
              "      --hover-bg-color: #434B5C;\n",
              "      --hover-fill-color: #FFFFFF;\n",
              "      --disabled-bg-color: #3B4455;\n",
              "      --disabled-fill-color: #666;\n",
              "  }\n",
              "\n",
              "  .colab-df-quickchart {\n",
              "    background-color: var(--bg-color);\n",
              "    border: none;\n",
              "    border-radius: 50%;\n",
              "    cursor: pointer;\n",
              "    display: none;\n",
              "    fill: var(--fill-color);\n",
              "    height: 32px;\n",
              "    padding: 0;\n",
              "    width: 32px;\n",
              "  }\n",
              "\n",
              "  .colab-df-quickchart:hover {\n",
              "    background-color: var(--hover-bg-color);\n",
              "    box-shadow: 0 1px 2px rgba(60, 64, 67, 0.3), 0 1px 3px 1px rgba(60, 64, 67, 0.15);\n",
              "    fill: var(--button-hover-fill-color);\n",
              "  }\n",
              "\n",
              "  .colab-df-quickchart-complete:disabled,\n",
              "  .colab-df-quickchart-complete:disabled:hover {\n",
              "    background-color: var(--disabled-bg-color);\n",
              "    fill: var(--disabled-fill-color);\n",
              "    box-shadow: none;\n",
              "  }\n",
              "\n",
              "  .colab-df-spinner {\n",
              "    border: 2px solid var(--fill-color);\n",
              "    border-color: transparent;\n",
              "    border-bottom-color: var(--fill-color);\n",
              "    animation:\n",
              "      spin 1s steps(1) infinite;\n",
              "  }\n",
              "\n",
              "  @keyframes spin {\n",
              "    0% {\n",
              "      border-color: transparent;\n",
              "      border-bottom-color: var(--fill-color);\n",
              "      border-left-color: var(--fill-color);\n",
              "    }\n",
              "    20% {\n",
              "      border-color: transparent;\n",
              "      border-left-color: var(--fill-color);\n",
              "      border-top-color: var(--fill-color);\n",
              "    }\n",
              "    30% {\n",
              "      border-color: transparent;\n",
              "      border-left-color: var(--fill-color);\n",
              "      border-top-color: var(--fill-color);\n",
              "      border-right-color: var(--fill-color);\n",
              "    }\n",
              "    40% {\n",
              "      border-color: transparent;\n",
              "      border-right-color: var(--fill-color);\n",
              "      border-top-color: var(--fill-color);\n",
              "    }\n",
              "    60% {\n",
              "      border-color: transparent;\n",
              "      border-right-color: var(--fill-color);\n",
              "    }\n",
              "    80% {\n",
              "      border-color: transparent;\n",
              "      border-right-color: var(--fill-color);\n",
              "      border-bottom-color: var(--fill-color);\n",
              "    }\n",
              "    90% {\n",
              "      border-color: transparent;\n",
              "      border-bottom-color: var(--fill-color);\n",
              "    }\n",
              "  }\n",
              "</style>\n",
              "\n",
              "      <script>\n",
              "        async function quickchart(key) {\n",
              "          const quickchartButtonEl =\n",
              "            document.querySelector('#' + key + ' button');\n",
              "          quickchartButtonEl.disabled = true;  // To prevent multiple clicks.\n",
              "          quickchartButtonEl.classList.add('colab-df-spinner');\n",
              "          try {\n",
              "            const charts = await google.colab.kernel.invokeFunction(\n",
              "                'suggestCharts', [key], {});\n",
              "          } catch (error) {\n",
              "            console.error('Error during call to suggestCharts:', error);\n",
              "          }\n",
              "          quickchartButtonEl.classList.remove('colab-df-spinner');\n",
              "          quickchartButtonEl.classList.add('colab-df-quickchart-complete');\n",
              "        }\n",
              "        (() => {\n",
              "          let quickchartButtonEl =\n",
              "            document.querySelector('#df-fde55646-9fa3-4695-8d35-7953ae748860 button');\n",
              "          quickchartButtonEl.style.display =\n",
              "            google.colab.kernel.accessAllowed ? 'block' : 'none';\n",
              "        })();\n",
              "      </script>\n",
              "    </div>\n",
              "\n",
              "    </div>\n",
              "  </div>\n"
            ],
            "application/vnd.google.colaboratory.intrinsic+json": {
              "type": "dataframe",
              "summary": "{\n  \"name\": \"print(\\\"\\\\nMissing values per column:\\\\n\\\", df\",\n  \"rows\": 5,\n  \"fields\": [\n    {\n      \"column\": \"age\",\n      \"properties\": {\n        \"dtype\": \"number\",\n        \"std\": 7,\n        \"min\": 52,\n        \"max\": 70,\n        \"num_unique_values\": 5,\n        \"samples\": [\n          53,\n          62,\n          70\n        ],\n        \"semantic_type\": \"\",\n        \"description\": \"\"\n      }\n    },\n    {\n      \"column\": \"sex\",\n      \"properties\": {\n        \"dtype\": \"number\",\n        \"std\": 0,\n        \"min\": 0,\n        \"max\": 1,\n        \"num_unique_values\": 2,\n        \"samples\": [\n          0,\n          1\n        ],\n        \"semantic_type\": \"\",\n        \"description\": \"\"\n      }\n    },\n    {\n      \"column\": \"cp\",\n      \"properties\": {\n        \"dtype\": \"number\",\n        \"std\": 0,\n        \"min\": 0,\n        \"max\": 0,\n        \"num_unique_values\": 1,\n        \"samples\": [\n          0\n        ],\n        \"semantic_type\": \"\",\n        \"description\": \"\"\n      }\n    },\n    {\n      \"column\": \"trestbps\",\n      \"properties\": {\n        \"dtype\": \"number\",\n        \"std\": 8,\n        \"min\": 125,\n        \"max\": 148,\n        \"num_unique_values\": 5,\n        \"samples\": [\n          140\n        ],\n        \"semantic_type\": \"\",\n        \"description\": \"\"\n      }\n    },\n    {\n      \"column\": \"chol\",\n      \"properties\": {\n        \"dtype\": \"number\",\n        \"std\": 45,\n        \"min\": 174,\n        \"max\": 294,\n        \"num_unique_values\": 4,\n        \"samples\": [\n          203\n        ],\n        \"semantic_type\": \"\",\n        \"description\": \"\"\n      }\n    },\n    {\n      \"column\": \"fbs\",\n      \"properties\": {\n        \"dtype\": \"number\",\n        \"std\": 0,\n        \"min\": 0,\n        \"max\": 1,\n        \"num_unique_values\": 2,\n        \"samples\": [\n          1\n        ],\n        \"semantic_type\": \"\",\n        \"description\": \"\"\n      }\n    },\n    {\n      \"column\": \"restecg\",\n      \"properties\": {\n        \"dtype\": \"number\",\n        \"std\": 0,\n        \"min\": 0,\n        \"max\": 1,\n        \"num_unique_values\": 2,\n        \"samples\": [\n          0\n        ],\n        \"semantic_type\": \"\",\n        \"description\": \"\"\n      }\n    },\n    {\n      \"column\": \"thalach\",\n      \"properties\": {\n        \"dtype\": \"number\",\n        \"std\": 26,\n        \"min\": 106,\n        \"max\": 168,\n        \"num_unique_values\": 5,\n        \"samples\": [\n          155\n        ],\n        \"semantic_type\": \"\",\n        \"description\": \"\"\n      }\n    },\n    {\n      \"column\": \"exang\",\n      \"properties\": {\n        \"dtype\": \"number\",\n        \"std\": 0,\n        \"min\": 0,\n        \"max\": 1,\n        \"num_unique_values\": 2,\n        \"samples\": [\n          1\n        ],\n        \"semantic_type\": \"\",\n        \"description\": \"\"\n      }\n    },\n    {\n      \"column\": \"oldpeak\",\n      \"properties\": {\n        \"dtype\": \"number\",\n        \"std\": 1.243784547258889,\n        \"min\": 0.0,\n        \"max\": 3.1,\n        \"num_unique_values\": 5,\n        \"samples\": [\n          3.1\n        ],\n        \"semantic_type\": \"\",\n        \"description\": \"\"\n      }\n    },\n    {\n      \"column\": \"slope\",\n      \"properties\": {\n        \"dtype\": \"number\",\n        \"std\": 1,\n        \"min\": 0,\n        \"max\": 2,\n        \"num_unique_values\": 3,\n        \"samples\": [\n          2\n        ],\n        \"semantic_type\": \"\",\n        \"description\": \"\"\n      }\n    },\n    {\n      \"column\": \"ca\",\n      \"properties\": {\n        \"dtype\": \"number\",\n        \"std\": 1,\n        \"min\": 0,\n        \"max\": 3,\n        \"num_unique_values\": 4,\n        \"samples\": [\n          0\n        ],\n        \"semantic_type\": \"\",\n        \"description\": \"\"\n      }\n    },\n    {\n      \"column\": \"thal\",\n      \"properties\": {\n        \"dtype\": \"number\",\n        \"std\": 0,\n        \"min\": 2,\n        \"max\": 3,\n        \"num_unique_values\": 2,\n        \"samples\": [\n          2\n        ],\n        \"semantic_type\": \"\",\n        \"description\": \"\"\n      }\n    },\n    {\n      \"column\": \"target\",\n      \"properties\": {\n        \"dtype\": \"number\",\n        \"std\": 0,\n        \"min\": 0,\n        \"max\": 0,\n        \"num_unique_values\": 1,\n        \"samples\": [\n          0\n        ],\n        \"semantic_type\": \"\",\n        \"description\": \"\"\n      }\n    }\n  ]\n}"
            }
          },
          "metadata": {}
        },
        {
          "output_type": "stream",
          "name": "stdout",
          "text": [
            "\n",
            "Missing values per column:\n",
            " age         0\n",
            "sex         0\n",
            "cp          0\n",
            "trestbps    0\n",
            "chol        0\n",
            "fbs         0\n",
            "restecg     0\n",
            "thalach     0\n",
            "exang       0\n",
            "oldpeak     0\n",
            "slope       0\n",
            "ca          0\n",
            "thal        0\n",
            "target      0\n",
            "dtype: int64\n"
          ]
        }
      ]
    },
    {
      "cell_type": "code",
      "source": [
        "X = df.drop(\"target\", axis=1)\n",
        "y = df[\"target\"]\n",
        "X_train, X_test, y_train, y_test = train_test_split(\n",
        "    X, y, test_size=0.30, random_state=42, stratify=y\n",
        ")\n"
      ],
      "metadata": {
        "id": "0GWjKNiDKNjH"
      },
      "execution_count": 4,
      "outputs": []
    },
    {
      "cell_type": "code",
      "source": [
        "dt = DecisionTreeClassifier(random_state=0)\n",
        "dt.fit(X_train, y_train)\n",
        "dot_file = Path(\"heart_tree.dot\")\n",
        "export_graphviz(\n",
        "    dt,\n",
        "    out_file=str(dot_file),\n",
        "    feature_names=X.columns,\n",
        "    class_names=[\"No‑Disease\", \"Disease\"],\n",
        "    filled=True, rounded=True, max_depth=3\n",
        ")\n",
        "graphviz.Source(dot_file.read_text())"
      ],
      "metadata": {
        "colab": {
          "base_uri": "https://localhost:8080/",
          "height": 734
        },
        "id": "r4TseAJZKUmj",
        "outputId": "6bb91f0b-c2ef-4170-f9b1-bdf84ed9392a"
      },
      "execution_count": 6,
      "outputs": [
        {
          "output_type": "execute_result",
          "data": {
            "image/svg+xml": "<?xml version=\"1.0\" encoding=\"UTF-8\" standalone=\"no\"?>\n<!DOCTYPE svg PUBLIC \"-//W3C//DTD SVG 1.1//EN\"\n \"http://www.w3.org/Graphics/SVG/1.1/DTD/svg11.dtd\">\n<!-- Generated by graphviz version 2.43.0 (0)\n -->\n<!-- Title: Tree Pages: 1 -->\n<svg width=\"1184pt\" height=\"520pt\"\n viewBox=\"0.00 0.00 1184.00 520.00\" xmlns=\"http://www.w3.org/2000/svg\" xmlns:xlink=\"http://www.w3.org/1999/xlink\">\n<g id=\"graph0\" class=\"graph\" transform=\"scale(1 1) rotate(0) translate(4 516)\">\n<title>Tree</title>\n<polygon fill=\"white\" stroke=\"transparent\" points=\"-4,4 -4,-516 1180,-516 1180,4 -4,4\"/>\n<!-- 0 -->\n<g id=\"node1\" class=\"node\">\n<title>0</title>\n<path fill=\"#f5fafe\" stroke=\"black\" d=\"M642.5,-512C642.5,-512 541.5,-512 541.5,-512 535.5,-512 529.5,-506 529.5,-500 529.5,-500 529.5,-441 529.5,-441 529.5,-435 535.5,-429 541.5,-429 541.5,-429 642.5,-429 642.5,-429 648.5,-429 654.5,-435 654.5,-441 654.5,-441 654.5,-500 654.5,-500 654.5,-506 648.5,-512 642.5,-512\"/>\n<text text-anchor=\"middle\" x=\"592\" y=\"-496.8\" font-family=\"Helvetica,sans-Serif\" font-size=\"14.00\">cp &lt;= 0.5</text>\n<text text-anchor=\"middle\" x=\"592\" y=\"-481.8\" font-family=\"Helvetica,sans-Serif\" font-size=\"14.00\">gini = 0.5</text>\n<text text-anchor=\"middle\" x=\"592\" y=\"-466.8\" font-family=\"Helvetica,sans-Serif\" font-size=\"14.00\">samples = 717</text>\n<text text-anchor=\"middle\" x=\"592\" y=\"-451.8\" font-family=\"Helvetica,sans-Serif\" font-size=\"14.00\">value = [349, 368]</text>\n<text text-anchor=\"middle\" x=\"592\" y=\"-436.8\" font-family=\"Helvetica,sans-Serif\" font-size=\"14.00\">class = Disease</text>\n</g>\n<!-- 1 -->\n<g id=\"node2\" class=\"node\">\n<title>1</title>\n<path fill=\"#eda775\" stroke=\"black\" d=\"M498,-393C498,-393 388,-393 388,-393 382,-393 376,-387 376,-381 376,-381 376,-322 376,-322 376,-316 382,-310 388,-310 388,-310 498,-310 498,-310 504,-310 510,-316 510,-322 510,-322 510,-381 510,-381 510,-387 504,-393 498,-393\"/>\n<text text-anchor=\"middle\" x=\"443\" y=\"-377.8\" font-family=\"Helvetica,sans-Serif\" font-size=\"14.00\">ca &lt;= 0.5</text>\n<text text-anchor=\"middle\" x=\"443\" y=\"-362.8\" font-family=\"Helvetica,sans-Serif\" font-size=\"14.00\">gini = 0.358</text>\n<text text-anchor=\"middle\" x=\"443\" y=\"-347.8\" font-family=\"Helvetica,sans-Serif\" font-size=\"14.00\">samples = 343</text>\n<text text-anchor=\"middle\" x=\"443\" y=\"-332.8\" font-family=\"Helvetica,sans-Serif\" font-size=\"14.00\">value = [263, 80]</text>\n<text text-anchor=\"middle\" x=\"443\" y=\"-317.8\" font-family=\"Helvetica,sans-Serif\" font-size=\"14.00\">class = No‑Disease</text>\n</g>\n<!-- 0&#45;&gt;1 -->\n<g id=\"edge1\" class=\"edge\">\n<title>0&#45;&gt;1</title>\n<path fill=\"none\" stroke=\"black\" d=\"M540.31,-428.91C528.17,-419.38 515.14,-409.15 502.69,-399.37\"/>\n<polygon fill=\"black\" stroke=\"black\" points=\"504.63,-396.44 494.6,-393.02 500.31,-401.95 504.63,-396.44\"/>\n<text text-anchor=\"middle\" x=\"497.59\" y=\"-414.14\" font-family=\"Helvetica,sans-Serif\" font-size=\"14.00\">True</text>\n</g>\n<!-- 40 -->\n<g id=\"node17\" class=\"node\">\n<title>40</title>\n<path fill=\"#74baed\" stroke=\"black\" d=\"M786.5,-393C786.5,-393 693.5,-393 693.5,-393 687.5,-393 681.5,-387 681.5,-381 681.5,-381 681.5,-322 681.5,-322 681.5,-316 687.5,-310 693.5,-310 693.5,-310 786.5,-310 786.5,-310 792.5,-310 798.5,-316 798.5,-322 798.5,-322 798.5,-381 798.5,-381 798.5,-387 792.5,-393 786.5,-393\"/>\n<text text-anchor=\"middle\" x=\"740\" y=\"-377.8\" font-family=\"Helvetica,sans-Serif\" font-size=\"14.00\">age &lt;= 56.5</text>\n<text text-anchor=\"middle\" x=\"740\" y=\"-362.8\" font-family=\"Helvetica,sans-Serif\" font-size=\"14.00\">gini = 0.354</text>\n<text text-anchor=\"middle\" x=\"740\" y=\"-347.8\" font-family=\"Helvetica,sans-Serif\" font-size=\"14.00\">samples = 374</text>\n<text text-anchor=\"middle\" x=\"740\" y=\"-332.8\" font-family=\"Helvetica,sans-Serif\" font-size=\"14.00\">value = [86, 288]</text>\n<text text-anchor=\"middle\" x=\"740\" y=\"-317.8\" font-family=\"Helvetica,sans-Serif\" font-size=\"14.00\">class = Disease</text>\n</g>\n<!-- 0&#45;&gt;40 -->\n<g id=\"edge16\" class=\"edge\">\n<title>0&#45;&gt;40</title>\n<path fill=\"none\" stroke=\"black\" d=\"M643.35,-428.91C655.4,-419.38 668.34,-409.15 680.71,-399.37\"/>\n<polygon fill=\"black\" stroke=\"black\" points=\"683.07,-401.97 688.74,-393.02 678.73,-396.48 683.07,-401.97\"/>\n<text text-anchor=\"middle\" x=\"685.84\" y=\"-414.15\" font-family=\"Helvetica,sans-Serif\" font-size=\"14.00\">False</text>\n</g>\n<!-- 2 -->\n<g id=\"node3\" class=\"node\">\n<title>2</title>\n<path fill=\"#fdf3ed\" stroke=\"black\" d=\"M272,-274C272,-274 162,-274 162,-274 156,-274 150,-268 150,-262 150,-262 150,-203 150,-203 150,-197 156,-191 162,-191 162,-191 272,-191 272,-191 278,-191 284,-197 284,-203 284,-203 284,-262 284,-262 284,-268 278,-274 272,-274\"/>\n<text text-anchor=\"middle\" x=\"217\" y=\"-258.8\" font-family=\"Helvetica,sans-Serif\" font-size=\"14.00\">thal &lt;= 2.5</text>\n<text text-anchor=\"middle\" x=\"217\" y=\"-243.8\" font-family=\"Helvetica,sans-Serif\" font-size=\"14.00\">gini = 0.499</text>\n<text text-anchor=\"middle\" x=\"217\" y=\"-228.8\" font-family=\"Helvetica,sans-Serif\" font-size=\"14.00\">samples = 145</text>\n<text text-anchor=\"middle\" x=\"217\" y=\"-213.8\" font-family=\"Helvetica,sans-Serif\" font-size=\"14.00\">value = [76, 69]</text>\n<text text-anchor=\"middle\" x=\"217\" y=\"-198.8\" font-family=\"Helvetica,sans-Serif\" font-size=\"14.00\">class = No‑Disease</text>\n</g>\n<!-- 1&#45;&gt;2 -->\n<g id=\"edge2\" class=\"edge\">\n<title>1&#45;&gt;2</title>\n<path fill=\"none\" stroke=\"black\" d=\"M375.8,-315.71C349.85,-302.28 320.02,-286.83 293.27,-272.99\"/>\n<polygon fill=\"black\" stroke=\"black\" points=\"294.82,-269.84 284.33,-268.36 291.6,-276.06 294.82,-269.84\"/>\n</g>\n<!-- 25 -->\n<g id=\"node10\" class=\"node\">\n<title>25</title>\n<path fill=\"#e78845\" stroke=\"black\" d=\"M498,-274C498,-274 388,-274 388,-274 382,-274 376,-268 376,-262 376,-262 376,-203 376,-203 376,-197 382,-191 388,-191 388,-191 498,-191 498,-191 504,-191 510,-197 510,-203 510,-203 510,-262 510,-262 510,-268 504,-274 498,-274\"/>\n<text text-anchor=\"middle\" x=\"443\" y=\"-258.8\" font-family=\"Helvetica,sans-Serif\" font-size=\"14.00\">trestbps &lt;= 109.0</text>\n<text text-anchor=\"middle\" x=\"443\" y=\"-243.8\" font-family=\"Helvetica,sans-Serif\" font-size=\"14.00\">gini = 0.105</text>\n<text text-anchor=\"middle\" x=\"443\" y=\"-228.8\" font-family=\"Helvetica,sans-Serif\" font-size=\"14.00\">samples = 198</text>\n<text text-anchor=\"middle\" x=\"443\" y=\"-213.8\" font-family=\"Helvetica,sans-Serif\" font-size=\"14.00\">value = [187, 11]</text>\n<text text-anchor=\"middle\" x=\"443\" y=\"-198.8\" font-family=\"Helvetica,sans-Serif\" font-size=\"14.00\">class = No‑Disease</text>\n</g>\n<!-- 1&#45;&gt;25 -->\n<g id=\"edge9\" class=\"edge\">\n<title>1&#45;&gt;25</title>\n<path fill=\"none\" stroke=\"black\" d=\"M443,-309.91C443,-301.65 443,-292.86 443,-284.3\"/>\n<polygon fill=\"black\" stroke=\"black\" points=\"446.5,-284.02 443,-274.02 439.5,-284.02 446.5,-284.02\"/>\n</g>\n<!-- 3 -->\n<g id=\"node4\" class=\"node\">\n<title>3</title>\n<path fill=\"#8bc6f0\" stroke=\"black\" d=\"M120,-155C120,-155 12,-155 12,-155 6,-155 0,-149 0,-143 0,-143 0,-84 0,-84 0,-78 6,-72 12,-72 12,-72 120,-72 120,-72 126,-72 132,-78 132,-84 132,-84 132,-143 132,-143 132,-149 126,-155 120,-155\"/>\n<text text-anchor=\"middle\" x=\"66\" y=\"-139.8\" font-family=\"Helvetica,sans-Serif\" font-size=\"14.00\">exang &lt;= 0.5</text>\n<text text-anchor=\"middle\" x=\"66\" y=\"-124.8\" font-family=\"Helvetica,sans-Serif\" font-size=\"14.00\">gini = 0.415</text>\n<text text-anchor=\"middle\" x=\"66\" y=\"-109.8\" font-family=\"Helvetica,sans-Serif\" font-size=\"14.00\">samples = 85</text>\n<text text-anchor=\"middle\" x=\"66\" y=\"-94.8\" font-family=\"Helvetica,sans-Serif\" font-size=\"14.00\">value = [25.0, 60.0]</text>\n<text text-anchor=\"middle\" x=\"66\" y=\"-79.8\" font-family=\"Helvetica,sans-Serif\" font-size=\"14.00\">class = Disease</text>\n</g>\n<!-- 2&#45;&gt;3 -->\n<g id=\"edge3\" class=\"edge\">\n<title>2&#45;&gt;3</title>\n<path fill=\"none\" stroke=\"black\" d=\"M164.61,-190.91C152.31,-181.38 139.11,-171.15 126.49,-161.37\"/>\n<polygon fill=\"black\" stroke=\"black\" points=\"128.34,-158.38 118.3,-155.02 124.06,-163.91 128.34,-158.38\"/>\n</g>\n<!-- 18 -->\n<g id=\"node7\" class=\"node\">\n<title>18</title>\n<path fill=\"#ea975c\" stroke=\"black\" d=\"M272,-155C272,-155 162,-155 162,-155 156,-155 150,-149 150,-143 150,-143 150,-84 150,-84 150,-78 156,-72 162,-72 162,-72 272,-72 272,-72 278,-72 284,-78 284,-84 284,-84 284,-143 284,-143 284,-149 278,-155 272,-155\"/>\n<text text-anchor=\"middle\" x=\"217\" y=\"-139.8\" font-family=\"Helvetica,sans-Serif\" font-size=\"14.00\">oldpeak &lt;= 0.65</text>\n<text text-anchor=\"middle\" x=\"217\" y=\"-124.8\" font-family=\"Helvetica,sans-Serif\" font-size=\"14.00\">gini = 0.255</text>\n<text text-anchor=\"middle\" x=\"217\" y=\"-109.8\" font-family=\"Helvetica,sans-Serif\" font-size=\"14.00\">samples = 60</text>\n<text text-anchor=\"middle\" x=\"217\" y=\"-94.8\" font-family=\"Helvetica,sans-Serif\" font-size=\"14.00\">value = [51, 9]</text>\n<text text-anchor=\"middle\" x=\"217\" y=\"-79.8\" font-family=\"Helvetica,sans-Serif\" font-size=\"14.00\">class = No‑Disease</text>\n</g>\n<!-- 2&#45;&gt;18 -->\n<g id=\"edge6\" class=\"edge\">\n<title>2&#45;&gt;18</title>\n<path fill=\"none\" stroke=\"black\" d=\"M217,-190.91C217,-182.65 217,-173.86 217,-165.3\"/>\n<polygon fill=\"black\" stroke=\"black\" points=\"220.5,-165.02 217,-155.02 213.5,-165.02 220.5,-165.02\"/>\n</g>\n<!-- 4 -->\n<g id=\"node5\" class=\"node\">\n<title>4</title>\n<path fill=\"#c0c0c0\" stroke=\"black\" d=\"M45,-36C45,-36 15,-36 15,-36 9,-36 3,-30 3,-24 3,-24 3,-12 3,-12 3,-6 9,0 15,0 15,0 45,0 45,0 51,0 57,-6 57,-12 57,-12 57,-24 57,-24 57,-30 51,-36 45,-36\"/>\n<text text-anchor=\"middle\" x=\"30\" y=\"-14.3\" font-family=\"Helvetica,sans-Serif\" font-size=\"14.00\">(...)</text>\n</g>\n<!-- 3&#45;&gt;4 -->\n<g id=\"edge4\" class=\"edge\">\n<title>3&#45;&gt;4</title>\n<path fill=\"none\" stroke=\"black\" d=\"M50.31,-71.76C46.96,-63.04 43.49,-54.04 40.39,-45.99\"/>\n<polygon fill=\"black\" stroke=\"black\" points=\"43.56,-44.48 36.7,-36.41 37.03,-46.99 43.56,-44.48\"/>\n</g>\n<!-- 11 -->\n<g id=\"node6\" class=\"node\">\n<title>11</title>\n<path fill=\"#c0c0c0\" stroke=\"black\" d=\"M117,-36C117,-36 87,-36 87,-36 81,-36 75,-30 75,-24 75,-24 75,-12 75,-12 75,-6 81,0 87,0 87,0 117,0 117,0 123,0 129,-6 129,-12 129,-12 129,-24 129,-24 129,-30 123,-36 117,-36\"/>\n<text text-anchor=\"middle\" x=\"102\" y=\"-14.3\" font-family=\"Helvetica,sans-Serif\" font-size=\"14.00\">(...)</text>\n</g>\n<!-- 3&#45;&gt;11 -->\n<g id=\"edge5\" class=\"edge\">\n<title>3&#45;&gt;11</title>\n<path fill=\"none\" stroke=\"black\" d=\"M81.69,-71.76C85.04,-63.04 88.51,-54.04 91.61,-45.99\"/>\n<polygon fill=\"black\" stroke=\"black\" points=\"94.97,-46.99 95.3,-36.41 88.44,-44.48 94.97,-46.99\"/>\n</g>\n<!-- 19 -->\n<g id=\"node8\" class=\"node\">\n<title>19</title>\n<path fill=\"#c0c0c0\" stroke=\"black\" d=\"M211,-36C211,-36 181,-36 181,-36 175,-36 169,-30 169,-24 169,-24 169,-12 169,-12 169,-6 175,0 181,0 181,0 211,0 211,0 217,0 223,-6 223,-12 223,-12 223,-24 223,-24 223,-30 217,-36 211,-36\"/>\n<text text-anchor=\"middle\" x=\"196\" y=\"-14.3\" font-family=\"Helvetica,sans-Serif\" font-size=\"14.00\">(...)</text>\n</g>\n<!-- 18&#45;&gt;19 -->\n<g id=\"edge7\" class=\"edge\">\n<title>18&#45;&gt;19</title>\n<path fill=\"none\" stroke=\"black\" d=\"M207.85,-71.76C205.91,-63.14 203.91,-54.24 202.12,-46.26\"/>\n<polygon fill=\"black\" stroke=\"black\" points=\"205.52,-45.4 199.91,-36.41 198.69,-46.93 205.52,-45.4\"/>\n</g>\n<!-- 24 -->\n<g id=\"node9\" class=\"node\">\n<title>24</title>\n<path fill=\"#c0c0c0\" stroke=\"black\" d=\"M283,-36C283,-36 253,-36 253,-36 247,-36 241,-30 241,-24 241,-24 241,-12 241,-12 241,-6 247,0 253,0 253,0 283,0 283,0 289,0 295,-6 295,-12 295,-12 295,-24 295,-24 295,-30 289,-36 283,-36\"/>\n<text text-anchor=\"middle\" x=\"268\" y=\"-14.3\" font-family=\"Helvetica,sans-Serif\" font-size=\"14.00\">(...)</text>\n</g>\n<!-- 18&#45;&gt;24 -->\n<g id=\"edge8\" class=\"edge\">\n<title>18&#45;&gt;24</title>\n<path fill=\"none\" stroke=\"black\" d=\"M239.22,-71.76C244.14,-62.75 249.22,-53.44 253.71,-45.19\"/>\n<polygon fill=\"black\" stroke=\"black\" points=\"256.79,-46.86 258.51,-36.41 250.65,-43.51 256.79,-46.86\"/>\n</g>\n<!-- 26 -->\n<g id=\"node11\" class=\"node\">\n<title>26</title>\n<path fill=\"#f6d5bd\" stroke=\"black\" d=\"M424,-155C424,-155 314,-155 314,-155 308,-155 302,-149 302,-143 302,-143 302,-84 302,-84 302,-78 308,-72 314,-72 314,-72 424,-72 424,-72 430,-72 436,-78 436,-84 436,-84 436,-143 436,-143 436,-149 430,-155 424,-155\"/>\n<text text-anchor=\"middle\" x=\"369\" y=\"-139.8\" font-family=\"Helvetica,sans-Serif\" font-size=\"14.00\">chol &lt;= 233.5</text>\n<text text-anchor=\"middle\" x=\"369\" y=\"-124.8\" font-family=\"Helvetica,sans-Serif\" font-size=\"14.00\">gini = 0.48</text>\n<text text-anchor=\"middle\" x=\"369\" y=\"-109.8\" font-family=\"Helvetica,sans-Serif\" font-size=\"14.00\">samples = 10</text>\n<text text-anchor=\"middle\" x=\"369\" y=\"-94.8\" font-family=\"Helvetica,sans-Serif\" font-size=\"14.00\">value = [6, 4]</text>\n<text text-anchor=\"middle\" x=\"369\" y=\"-79.8\" font-family=\"Helvetica,sans-Serif\" font-size=\"14.00\">class = No‑Disease</text>\n</g>\n<!-- 25&#45;&gt;26 -->\n<g id=\"edge10\" class=\"edge\">\n<title>25&#45;&gt;26</title>\n<path fill=\"none\" stroke=\"black\" d=\"M417.33,-190.91C411.76,-182.1 405.81,-172.7 400.06,-163.61\"/>\n<polygon fill=\"black\" stroke=\"black\" points=\"402.93,-161.6 394.63,-155.02 397.02,-165.34 402.93,-161.6\"/>\n</g>\n<!-- 29 -->\n<g id=\"node14\" class=\"node\">\n<title>29</title>\n<path fill=\"#e68641\" stroke=\"black\" d=\"M576,-155C576,-155 466,-155 466,-155 460,-155 454,-149 454,-143 454,-143 454,-84 454,-84 454,-78 460,-72 466,-72 466,-72 576,-72 576,-72 582,-72 588,-78 588,-84 588,-84 588,-143 588,-143 588,-149 582,-155 576,-155\"/>\n<text text-anchor=\"middle\" x=\"521\" y=\"-139.8\" font-family=\"Helvetica,sans-Serif\" font-size=\"14.00\">age &lt;= 63.5</text>\n<text text-anchor=\"middle\" x=\"521\" y=\"-124.8\" font-family=\"Helvetica,sans-Serif\" font-size=\"14.00\">gini = 0.072</text>\n<text text-anchor=\"middle\" x=\"521\" y=\"-109.8\" font-family=\"Helvetica,sans-Serif\" font-size=\"14.00\">samples = 188</text>\n<text text-anchor=\"middle\" x=\"521\" y=\"-94.8\" font-family=\"Helvetica,sans-Serif\" font-size=\"14.00\">value = [181, 7]</text>\n<text text-anchor=\"middle\" x=\"521\" y=\"-79.8\" font-family=\"Helvetica,sans-Serif\" font-size=\"14.00\">class = No‑Disease</text>\n</g>\n<!-- 25&#45;&gt;29 -->\n<g id=\"edge13\" class=\"edge\">\n<title>25&#45;&gt;29</title>\n<path fill=\"none\" stroke=\"black\" d=\"M470.06,-190.91C475.93,-182.1 482.2,-172.7 488.26,-163.61\"/>\n<polygon fill=\"black\" stroke=\"black\" points=\"491.35,-165.28 493.99,-155.02 485.53,-161.4 491.35,-165.28\"/>\n</g>\n<!-- 27 -->\n<g id=\"node12\" class=\"node\">\n<title>27</title>\n<path fill=\"#c0c0c0\" stroke=\"black\" d=\"M370,-36C370,-36 340,-36 340,-36 334,-36 328,-30 328,-24 328,-24 328,-12 328,-12 328,-6 334,0 340,0 340,0 370,0 370,0 376,0 382,-6 382,-12 382,-12 382,-24 382,-24 382,-30 376,-36 370,-36\"/>\n<text text-anchor=\"middle\" x=\"355\" y=\"-14.3\" font-family=\"Helvetica,sans-Serif\" font-size=\"14.00\">(...)</text>\n</g>\n<!-- 26&#45;&gt;27 -->\n<g id=\"edge11\" class=\"edge\">\n<title>26&#45;&gt;27</title>\n<path fill=\"none\" stroke=\"black\" d=\"M362.9,-71.76C361.62,-63.24 360.31,-54.44 359.12,-46.53\"/>\n<polygon fill=\"black\" stroke=\"black\" points=\"362.55,-45.78 357.61,-36.41 355.63,-46.81 362.55,-45.78\"/>\n</g>\n<!-- 28 -->\n<g id=\"node13\" class=\"node\">\n<title>28</title>\n<path fill=\"#c0c0c0\" stroke=\"black\" d=\"M442,-36C442,-36 412,-36 412,-36 406,-36 400,-30 400,-24 400,-24 400,-12 400,-12 400,-6 406,0 412,0 412,0 442,0 442,0 448,0 454,-6 454,-12 454,-12 454,-24 454,-24 454,-30 448,-36 442,-36\"/>\n<text text-anchor=\"middle\" x=\"427\" y=\"-14.3\" font-family=\"Helvetica,sans-Serif\" font-size=\"14.00\">(...)</text>\n</g>\n<!-- 26&#45;&gt;28 -->\n<g id=\"edge12\" class=\"edge\">\n<title>26&#45;&gt;28</title>\n<path fill=\"none\" stroke=\"black\" d=\"M394.27,-71.76C399.92,-62.65 405.76,-53.24 410.92,-44.92\"/>\n<polygon fill=\"black\" stroke=\"black\" points=\"413.91,-46.75 416.2,-36.41 407.96,-43.06 413.91,-46.75\"/>\n</g>\n<!-- 30 -->\n<g id=\"node15\" class=\"node\">\n<title>30</title>\n<path fill=\"#c0c0c0\" stroke=\"black\" d=\"M525,-36C525,-36 495,-36 495,-36 489,-36 483,-30 483,-24 483,-24 483,-12 483,-12 483,-6 489,0 495,0 495,0 525,0 525,0 531,0 537,-6 537,-12 537,-12 537,-24 537,-24 537,-30 531,-36 525,-36\"/>\n<text text-anchor=\"middle\" x=\"510\" y=\"-14.3\" font-family=\"Helvetica,sans-Serif\" font-size=\"14.00\">(...)</text>\n</g>\n<!-- 29&#45;&gt;30 -->\n<g id=\"edge14\" class=\"edge\">\n<title>29&#45;&gt;30</title>\n<path fill=\"none\" stroke=\"black\" d=\"M516.21,-71.76C515.2,-63.24 514.17,-54.44 513.24,-46.53\"/>\n<polygon fill=\"black\" stroke=\"black\" points=\"516.69,-45.93 512.05,-36.41 509.74,-46.75 516.69,-45.93\"/>\n</g>\n<!-- 35 -->\n<g id=\"node16\" class=\"node\">\n<title>35</title>\n<path fill=\"#c0c0c0\" stroke=\"black\" d=\"M597,-36C597,-36 567,-36 567,-36 561,-36 555,-30 555,-24 555,-24 555,-12 555,-12 555,-6 561,0 567,0 567,0 597,0 597,0 603,0 609,-6 609,-12 609,-12 609,-24 609,-24 609,-30 603,-36 597,-36\"/>\n<text text-anchor=\"middle\" x=\"582\" y=\"-14.3\" font-family=\"Helvetica,sans-Serif\" font-size=\"14.00\">(...)</text>\n</g>\n<!-- 29&#45;&gt;35 -->\n<g id=\"edge15\" class=\"edge\">\n<title>29&#45;&gt;35</title>\n<path fill=\"none\" stroke=\"black\" d=\"M547.58,-71.76C553.52,-62.65 559.66,-53.24 565.09,-44.92\"/>\n<polygon fill=\"black\" stroke=\"black\" points=\"568.11,-46.69 570.64,-36.41 562.25,-42.87 568.11,-46.69\"/>\n</g>\n<!-- 41 -->\n<g id=\"node18\" class=\"node\">\n<title>41</title>\n<path fill=\"#4da7e8\" stroke=\"black\" d=\"M786.5,-274C786.5,-274 693.5,-274 693.5,-274 687.5,-274 681.5,-268 681.5,-262 681.5,-262 681.5,-203 681.5,-203 681.5,-197 687.5,-191 693.5,-191 693.5,-191 786.5,-191 786.5,-191 792.5,-191 798.5,-197 798.5,-203 798.5,-203 798.5,-262 798.5,-262 798.5,-268 792.5,-274 786.5,-274\"/>\n<text text-anchor=\"middle\" x=\"740\" y=\"-258.8\" font-family=\"Helvetica,sans-Serif\" font-size=\"14.00\">oldpeak &lt;= 3.55</text>\n<text text-anchor=\"middle\" x=\"740\" y=\"-243.8\" font-family=\"Helvetica,sans-Serif\" font-size=\"14.00\">gini = 0.167</text>\n<text text-anchor=\"middle\" x=\"740\" y=\"-228.8\" font-family=\"Helvetica,sans-Serif\" font-size=\"14.00\">samples = 217</text>\n<text text-anchor=\"middle\" x=\"740\" y=\"-213.8\" font-family=\"Helvetica,sans-Serif\" font-size=\"14.00\">value = [20, 197]</text>\n<text text-anchor=\"middle\" x=\"740\" y=\"-198.8\" font-family=\"Helvetica,sans-Serif\" font-size=\"14.00\">class = Disease</text>\n</g>\n<!-- 40&#45;&gt;41 -->\n<g id=\"edge17\" class=\"edge\">\n<title>40&#45;&gt;41</title>\n<path fill=\"none\" stroke=\"black\" d=\"M740,-309.91C740,-301.65 740,-292.86 740,-284.3\"/>\n<polygon fill=\"black\" stroke=\"black\" points=\"743.5,-284.02 740,-274.02 736.5,-284.02 743.5,-284.02\"/>\n</g>\n<!-- 66 -->\n<g id=\"node23\" class=\"node\">\n<title>66</title>\n<path fill=\"#c9e4f8\" stroke=\"black\" d=\"M998,-274C998,-274 910,-274 910,-274 904,-274 898,-268 898,-262 898,-262 898,-203 898,-203 898,-197 904,-191 910,-191 910,-191 998,-191 998,-191 1004,-191 1010,-197 1010,-203 1010,-203 1010,-262 1010,-262 1010,-268 1004,-274 998,-274\"/>\n<text text-anchor=\"middle\" x=\"954\" y=\"-258.8\" font-family=\"Helvetica,sans-Serif\" font-size=\"14.00\">sex &lt;= 0.5</text>\n<text text-anchor=\"middle\" x=\"954\" y=\"-243.8\" font-family=\"Helvetica,sans-Serif\" font-size=\"14.00\">gini = 0.487</text>\n<text text-anchor=\"middle\" x=\"954\" y=\"-228.8\" font-family=\"Helvetica,sans-Serif\" font-size=\"14.00\">samples = 157</text>\n<text text-anchor=\"middle\" x=\"954\" y=\"-213.8\" font-family=\"Helvetica,sans-Serif\" font-size=\"14.00\">value = [66, 91]</text>\n<text text-anchor=\"middle\" x=\"954\" y=\"-198.8\" font-family=\"Helvetica,sans-Serif\" font-size=\"14.00\">class = Disease</text>\n</g>\n<!-- 40&#45;&gt;66 -->\n<g id=\"edge22\" class=\"edge\">\n<title>40&#45;&gt;66</title>\n<path fill=\"none\" stroke=\"black\" d=\"M798.76,-318.37C826.67,-303.11 860.12,-284.82 888.82,-269.14\"/>\n<polygon fill=\"black\" stroke=\"black\" points=\"890.86,-272.01 897.95,-264.14 887.5,-265.87 890.86,-272.01\"/>\n</g>\n<!-- 42 -->\n<g id=\"node19\" class=\"node\">\n<title>42</title>\n<path fill=\"#49a5e7\" stroke=\"black\" d=\"M716,-155C716,-155 618,-155 618,-155 612,-155 606,-149 606,-143 606,-143 606,-84 606,-84 606,-78 612,-72 618,-72 618,-72 716,-72 716,-72 722,-72 728,-78 728,-84 728,-84 728,-143 728,-143 728,-149 722,-155 716,-155\"/>\n<text text-anchor=\"middle\" x=\"667\" y=\"-139.8\" font-family=\"Helvetica,sans-Serif\" font-size=\"14.00\">trestbps &lt;= 176.0</text>\n<text text-anchor=\"middle\" x=\"667\" y=\"-124.8\" font-family=\"Helvetica,sans-Serif\" font-size=\"14.00\">gini = 0.139</text>\n<text text-anchor=\"middle\" x=\"667\" y=\"-109.8\" font-family=\"Helvetica,sans-Serif\" font-size=\"14.00\">samples = 213</text>\n<text text-anchor=\"middle\" x=\"667\" y=\"-94.8\" font-family=\"Helvetica,sans-Serif\" font-size=\"14.00\">value = [16, 197]</text>\n<text text-anchor=\"middle\" x=\"667\" y=\"-79.8\" font-family=\"Helvetica,sans-Serif\" font-size=\"14.00\">class = Disease</text>\n</g>\n<!-- 41&#45;&gt;42 -->\n<g id=\"edge18\" class=\"edge\">\n<title>41&#45;&gt;42</title>\n<path fill=\"none\" stroke=\"black\" d=\"M714.67,-190.91C709.18,-182.1 703.31,-172.7 697.64,-163.61\"/>\n<polygon fill=\"black\" stroke=\"black\" points=\"700.55,-161.65 692.28,-155.02 694.61,-165.36 700.55,-161.65\"/>\n</g>\n<!-- 65 -->\n<g id=\"node22\" class=\"node\">\n<title>65</title>\n<path fill=\"#e58139\" stroke=\"black\" d=\"M868,-147.5C868,-147.5 758,-147.5 758,-147.5 752,-147.5 746,-141.5 746,-135.5 746,-135.5 746,-91.5 746,-91.5 746,-85.5 752,-79.5 758,-79.5 758,-79.5 868,-79.5 868,-79.5 874,-79.5 880,-85.5 880,-91.5 880,-91.5 880,-135.5 880,-135.5 880,-141.5 874,-147.5 868,-147.5\"/>\n<text text-anchor=\"middle\" x=\"813\" y=\"-132.3\" font-family=\"Helvetica,sans-Serif\" font-size=\"14.00\">gini = 0.0</text>\n<text text-anchor=\"middle\" x=\"813\" y=\"-117.3\" font-family=\"Helvetica,sans-Serif\" font-size=\"14.00\">samples = 4</text>\n<text text-anchor=\"middle\" x=\"813\" y=\"-102.3\" font-family=\"Helvetica,sans-Serif\" font-size=\"14.00\">value = [4, 0]</text>\n<text text-anchor=\"middle\" x=\"813\" y=\"-87.3\" font-family=\"Helvetica,sans-Serif\" font-size=\"14.00\">class = No‑Disease</text>\n</g>\n<!-- 41&#45;&gt;65 -->\n<g id=\"edge21\" class=\"edge\">\n<title>41&#45;&gt;65</title>\n<path fill=\"none\" stroke=\"black\" d=\"M765.33,-190.91C772.28,-179.76 779.83,-167.66 786.83,-156.44\"/>\n<polygon fill=\"black\" stroke=\"black\" points=\"789.98,-158 792.31,-147.67 784.04,-154.3 789.98,-158\"/>\n</g>\n<!-- 43 -->\n<g id=\"node20\" class=\"node\">\n<title>43</title>\n<path fill=\"#c0c0c0\" stroke=\"black\" d=\"M676,-36C676,-36 646,-36 646,-36 640,-36 634,-30 634,-24 634,-24 634,-12 634,-12 634,-6 640,0 646,0 646,0 676,0 676,0 682,0 688,-6 688,-12 688,-12 688,-24 688,-24 688,-30 682,-36 676,-36\"/>\n<text text-anchor=\"middle\" x=\"661\" y=\"-14.3\" font-family=\"Helvetica,sans-Serif\" font-size=\"14.00\">(...)</text>\n</g>\n<!-- 42&#45;&gt;43 -->\n<g id=\"edge19\" class=\"edge\">\n<title>42&#45;&gt;43</title>\n<path fill=\"none\" stroke=\"black\" d=\"M664.39,-71.76C663.84,-63.24 663.27,-54.44 662.77,-46.53\"/>\n<polygon fill=\"black\" stroke=\"black\" points=\"666.25,-46.16 662.12,-36.41 659.26,-46.61 666.25,-46.16\"/>\n</g>\n<!-- 64 -->\n<g id=\"node21\" class=\"node\">\n<title>64</title>\n<path fill=\"#c0c0c0\" stroke=\"black\" d=\"M748,-36C748,-36 718,-36 718,-36 712,-36 706,-30 706,-24 706,-24 706,-12 706,-12 706,-6 712,0 718,0 718,0 748,0 748,0 754,0 760,-6 760,-12 760,-12 760,-24 760,-24 760,-30 754,-36 748,-36\"/>\n<text text-anchor=\"middle\" x=\"733\" y=\"-14.3\" font-family=\"Helvetica,sans-Serif\" font-size=\"14.00\">(...)</text>\n</g>\n<!-- 42&#45;&gt;64 -->\n<g id=\"edge20\" class=\"edge\">\n<title>42&#45;&gt;64</title>\n<path fill=\"none\" stroke=\"black\" d=\"M695.76,-71.76C702.25,-62.56 708.97,-53.04 714.89,-44.66\"/>\n<polygon fill=\"black\" stroke=\"black\" points=\"717.81,-46.59 720.71,-36.41 712.09,-42.56 717.81,-46.59\"/>\n</g>\n<!-- 67 -->\n<g id=\"node24\" class=\"node\">\n<title>67</title>\n<path fill=\"#5baee9\" stroke=\"black\" d=\"M998,-155C998,-155 910,-155 910,-155 904,-155 898,-149 898,-143 898,-143 898,-84 898,-84 898,-78 904,-72 910,-72 910,-72 998,-72 998,-72 1004,-72 1010,-78 1010,-84 1010,-84 1010,-143 1010,-143 1010,-149 1004,-155 998,-155\"/>\n<text text-anchor=\"middle\" x=\"954\" y=\"-139.8\" font-family=\"Helvetica,sans-Serif\" font-size=\"14.00\">age &lt;= 57.5</text>\n<text text-anchor=\"middle\" x=\"954\" y=\"-124.8\" font-family=\"Helvetica,sans-Serif\" font-size=\"14.00\">gini = 0.249</text>\n<text text-anchor=\"middle\" x=\"954\" y=\"-109.8\" font-family=\"Helvetica,sans-Serif\" font-size=\"14.00\">samples = 55</text>\n<text text-anchor=\"middle\" x=\"954\" y=\"-94.8\" font-family=\"Helvetica,sans-Serif\" font-size=\"14.00\">value = [8, 47]</text>\n<text text-anchor=\"middle\" x=\"954\" y=\"-79.8\" font-family=\"Helvetica,sans-Serif\" font-size=\"14.00\">class = Disease</text>\n</g>\n<!-- 66&#45;&gt;67 -->\n<g id=\"edge23\" class=\"edge\">\n<title>66&#45;&gt;67</title>\n<path fill=\"none\" stroke=\"black\" d=\"M954,-190.91C954,-182.65 954,-173.86 954,-165.3\"/>\n<polygon fill=\"black\" stroke=\"black\" points=\"957.5,-165.02 954,-155.02 950.5,-165.02 957.5,-165.02\"/>\n</g>\n<!-- 76 -->\n<g id=\"node27\" class=\"node\">\n<title>76</title>\n<path fill=\"#f9e1cf\" stroke=\"black\" d=\"M1150,-155C1150,-155 1040,-155 1040,-155 1034,-155 1028,-149 1028,-143 1028,-143 1028,-84 1028,-84 1028,-78 1034,-72 1040,-72 1040,-72 1150,-72 1150,-72 1156,-72 1162,-78 1162,-84 1162,-84 1162,-143 1162,-143 1162,-149 1156,-155 1150,-155\"/>\n<text text-anchor=\"middle\" x=\"1095\" y=\"-139.8\" font-family=\"Helvetica,sans-Serif\" font-size=\"14.00\">chol &lt;= 245.5</text>\n<text text-anchor=\"middle\" x=\"1095\" y=\"-124.8\" font-family=\"Helvetica,sans-Serif\" font-size=\"14.00\">gini = 0.491</text>\n<text text-anchor=\"middle\" x=\"1095\" y=\"-109.8\" font-family=\"Helvetica,sans-Serif\" font-size=\"14.00\">samples = 102</text>\n<text text-anchor=\"middle\" x=\"1095\" y=\"-94.8\" font-family=\"Helvetica,sans-Serif\" font-size=\"14.00\">value = [58, 44]</text>\n<text text-anchor=\"middle\" x=\"1095\" y=\"-79.8\" font-family=\"Helvetica,sans-Serif\" font-size=\"14.00\">class = No‑Disease</text>\n</g>\n<!-- 66&#45;&gt;76 -->\n<g id=\"edge26\" class=\"edge\">\n<title>66&#45;&gt;76</title>\n<path fill=\"none\" stroke=\"black\" d=\"M1002.92,-190.91C1014.29,-181.47 1026.5,-171.34 1038.18,-161.65\"/>\n<polygon fill=\"black\" stroke=\"black\" points=\"1040.71,-164.1 1046.17,-155.02 1036.24,-158.71 1040.71,-164.1\"/>\n</g>\n<!-- 68 -->\n<g id=\"node25\" class=\"node\">\n<title>68</title>\n<path fill=\"#c0c0c0\" stroke=\"black\" d=\"M914,-36C914,-36 884,-36 884,-36 878,-36 872,-30 872,-24 872,-24 872,-12 872,-12 872,-6 878,0 884,0 884,0 914,0 914,0 920,0 926,-6 926,-12 926,-12 926,-24 926,-24 926,-30 920,-36 914,-36\"/>\n<text text-anchor=\"middle\" x=\"899\" y=\"-14.3\" font-family=\"Helvetica,sans-Serif\" font-size=\"14.00\">(...)</text>\n</g>\n<!-- 67&#45;&gt;68 -->\n<g id=\"edge24\" class=\"edge\">\n<title>67&#45;&gt;68</title>\n<path fill=\"none\" stroke=\"black\" d=\"M930.04,-71.76C924.74,-62.75 919.26,-53.44 914.41,-45.19\"/>\n<polygon fill=\"black\" stroke=\"black\" points=\"917.33,-43.25 909.24,-36.41 911.29,-46.8 917.33,-43.25\"/>\n</g>\n<!-- 69 -->\n<g id=\"node26\" class=\"node\">\n<title>69</title>\n<path fill=\"#c0c0c0\" stroke=\"black\" d=\"M986,-36C986,-36 956,-36 956,-36 950,-36 944,-30 944,-24 944,-24 944,-12 944,-12 944,-6 950,0 956,0 956,0 986,0 986,0 992,0 998,-6 998,-12 998,-12 998,-24 998,-24 998,-30 992,-36 986,-36\"/>\n<text text-anchor=\"middle\" x=\"971\" y=\"-14.3\" font-family=\"Helvetica,sans-Serif\" font-size=\"14.00\">(...)</text>\n</g>\n<!-- 67&#45;&gt;69 -->\n<g id=\"edge25\" class=\"edge\">\n<title>67&#45;&gt;69</title>\n<path fill=\"none\" stroke=\"black\" d=\"M961.41,-71.76C962.97,-63.14 964.59,-54.24 966.04,-46.26\"/>\n<polygon fill=\"black\" stroke=\"black\" points=\"969.49,-46.87 967.84,-36.41 962.6,-45.62 969.49,-46.87\"/>\n</g>\n<!-- 77 -->\n<g id=\"node28\" class=\"node\">\n<title>77</title>\n<path fill=\"#c0c0c0\" stroke=\"black\" d=\"M1092,-36C1092,-36 1062,-36 1062,-36 1056,-36 1050,-30 1050,-24 1050,-24 1050,-12 1050,-12 1050,-6 1056,0 1062,0 1062,0 1092,0 1092,0 1098,0 1104,-6 1104,-12 1104,-12 1104,-24 1104,-24 1104,-30 1098,-36 1092,-36\"/>\n<text text-anchor=\"middle\" x=\"1077\" y=\"-14.3\" font-family=\"Helvetica,sans-Serif\" font-size=\"14.00\">(...)</text>\n</g>\n<!-- 76&#45;&gt;77 -->\n<g id=\"edge27\" class=\"edge\">\n<title>76&#45;&gt;77</title>\n<path fill=\"none\" stroke=\"black\" d=\"M1087.16,-71.76C1085.5,-63.14 1083.78,-54.24 1082.25,-46.26\"/>\n<polygon fill=\"black\" stroke=\"black\" points=\"1085.68,-45.56 1080.35,-36.41 1078.8,-46.89 1085.68,-45.56\"/>\n</g>\n<!-- 92 -->\n<g id=\"node29\" class=\"node\">\n<title>92</title>\n<path fill=\"#c0c0c0\" stroke=\"black\" d=\"M1164,-36C1164,-36 1134,-36 1134,-36 1128,-36 1122,-30 1122,-24 1122,-24 1122,-12 1122,-12 1122,-6 1128,0 1134,0 1134,0 1164,0 1164,0 1170,0 1176,-6 1176,-12 1176,-12 1176,-24 1176,-24 1176,-30 1170,-36 1164,-36\"/>\n<text text-anchor=\"middle\" x=\"1149\" y=\"-14.3\" font-family=\"Helvetica,sans-Serif\" font-size=\"14.00\">(...)</text>\n</g>\n<!-- 76&#45;&gt;92 -->\n<g id=\"edge28\" class=\"edge\">\n<title>76&#45;&gt;92</title>\n<path fill=\"none\" stroke=\"black\" d=\"M1118.53,-71.76C1123.73,-62.75 1129.11,-53.44 1133.87,-45.19\"/>\n<polygon fill=\"black\" stroke=\"black\" points=\"1136.98,-46.82 1138.95,-36.41 1130.92,-43.31 1136.98,-46.82\"/>\n</g>\n</g>\n</svg>\n",
            "text/plain": [
              "<graphviz.sources.Source at 0x784e090421d0>"
            ]
          },
          "metadata": {},
          "execution_count": 6
        }
      ]
    },
    {
      "cell_type": "code",
      "source": [
        "\n",
        "acc_full = accuracy_score(y_test, dt.predict(X_test))\n",
        "\n",
        "dt_pruned = DecisionTreeClassifier(max_depth=4, random_state=0)\n",
        "dt_pruned.fit(X_train, y_train)\n",
        "acc_pruned = accuracy_score(y_test, dt_pruned.predict(X_test))\n",
        "\n",
        "print(f\"Accuracy  |  Full tree:  {acc_full:.3f}\")\n",
        "print(f\"Accuracy  |  Pruned tree (depth=4):  {acc_pruned:.3f}\")\n"
      ],
      "metadata": {
        "colab": {
          "base_uri": "https://localhost:8080/"
        },
        "id": "3lKVbra5KpVA",
        "outputId": "f063e358-c7ad-4add-dd68-b59207f819ae"
      },
      "execution_count": 7,
      "outputs": [
        {
          "output_type": "stream",
          "name": "stdout",
          "text": [
            "Accuracy  |  Full tree:  0.981\n",
            "Accuracy  |  Pruned tree (depth=4):  0.857\n"
          ]
        }
      ]
    },
    {
      "cell_type": "code",
      "source": [
        "rf = RandomForestClassifier(n_estimators=200, random_state=0)\n",
        "rf.fit(X_train, y_train)\n",
        "acc_rf = accuracy_score(y_test, rf.predict(X_test))\n",
        "\n",
        "print(f\"Accuracy  |  Random Forest (200 trees):  {acc_rf:.3f}\")\n"
      ],
      "metadata": {
        "colab": {
          "base_uri": "https://localhost:8080/"
        },
        "id": "azjwlC02KvfB",
        "outputId": "32e31e29-9560-45da-c710-de32021dcab6"
      },
      "execution_count": 8,
      "outputs": [
        {
          "output_type": "stream",
          "name": "stdout",
          "text": [
            "Accuracy  |  Random Forest (200 trees):  0.981\n"
          ]
        }
      ]
    },
    {
      "cell_type": "code",
      "source": [
        "importances = pd.Series(rf.feature_importances_, index=X.columns)\n",
        "top10 = importances.sort_values(ascending=False).head(10)\n",
        "\n",
        "print(\"\\nTop‑10 Important Features:\")\n",
        "print(top10)\n",
        "\n",
        "top10.plot.barh(figsize=(6,4)); plt.gca().invert_yaxis(); plt.title(\"Random‑Forest Feature Importances\"); plt.show()\n"
      ],
      "metadata": {
        "colab": {
          "base_uri": "https://localhost:8080/",
          "height": 617
        },
        "id": "F4sDtgsHK21z",
        "outputId": "941dfe61-78dd-4bca-b45e-b06076869b0d"
      },
      "execution_count": 9,
      "outputs": [
        {
          "output_type": "stream",
          "name": "stdout",
          "text": [
            "\n",
            "Top‑10 Important Features:\n",
            "cp          0.147907\n",
            "thalach     0.120571\n",
            "thal        0.116535\n",
            "ca          0.105701\n",
            "oldpeak     0.104711\n",
            "age         0.089976\n",
            "chol        0.076150\n",
            "trestbps    0.075515\n",
            "exang       0.064504\n",
            "slope       0.038338\n",
            "dtype: float64\n"
          ]
        },
        {
          "output_type": "display_data",
          "data": {
            "text/plain": [
              "<Figure size 600x400 with 1 Axes>"
            ],
            "image/png": "[encoded data removed]"
          },
          "metadata": {}
        }
      ]
    },
    {
      "cell_type": "code",
      "source": [
        "cv_dt   = cross_val_score(dt_pruned, X, y, cv=5)\n",
        "cv_rf   = cross_val_score(rf,        X, y, cv=5)\n",
        "\n",
        "print(f\"CV Accuracy | Decision‑Tree (depth=4):  {cv_dt.mean():.3f} ± {cv_dt.std():.3f}\")\n",
        "print(f\"CV Accuracy | Random‑Forest:            {cv_rf.mean():.3f} ± {cv_rf.std():.3f}\")\n"
      ],
      "metadata": {
        "colab": {
          "base_uri": "https://localhost:8080/"
        },
        "id": "Z7msjF54K8Yr",
        "outputId": "701e4644-ac85-47e1-b921-0f5784a8cfa9"
      },
      "execution_count": 10,
      "outputs": [
        {
          "output_type": "stream",
          "name": "stdout",
          "text": [
            "CV Accuracy | Decision‑Tree (depth=4):  0.834 ± 0.024\n",
            "CV Accuracy | Random‑Forest:            0.994 ± 0.007\n"
          ]
        }
      ]
    },
    {
      "cell_type": "code",
      "source": [
        "print(\"\\nClassification Report – Random Forest\")\n",
        "print(classification_report(y_test, rf.predict(X_test), target_names=[\"No‑Disease\",\"Disease\"]))\n"
      ],
      "metadata": {
        "colab": {
          "base_uri": "https://localhost:8080/"
        },
        "id": "qWlXLeSgLBCd",
        "outputId": "0e48a43c-1cb0-48da-eb99-ae48b39e5266"
      },
      "execution_count": 11,
      "outputs": [
        {
          "output_type": "stream",
          "name": "stdout",
          "text": [
            "\n",
            "Classification Report – Random Forest\n",
            "              precision    recall  f1-score   support\n",
            "\n",
            "  No‑Disease       0.96      1.00      0.98       150\n",
            "     Disease       1.00      0.96      0.98       158\n",
            "\n",
            "    accuracy                           0.98       308\n",
            "   macro avg       0.98      0.98      0.98       308\n",
            "weighted avg       0.98      0.98      0.98       308\n",
            "\n"
          ]
        }
      ]
    }
  ]
}